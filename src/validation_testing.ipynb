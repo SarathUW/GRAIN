{
 "cells": [
  {
   "cell_type": "code",
   "execution_count": null,
   "id": "22dcc6a8",
   "metadata": {},
   "outputs": [],
   "source": [
    "import geopandas as gpd\n",
    "import numpy as np\n",
    "import pandas as pd\n",
    "from shapely.geometry import Point"
   ]
  },
  {
   "cell_type": "code",
   "execution_count": null,
   "id": "dccf474c",
   "metadata": {},
   "outputs": [],
   "source": [
    "validation_file_osm_data_map = {\"../assets/validation_data/teesta_bangladesh.geojson\":\"../assets/outputs/test_outputs/final_output/Bangladesh_final_dataset.parquet\",\n",
    "\"../assets/validation_data/egypt_main_canals.geojson\":\"../assets/outputs/test_outputs/final_output/Egypt_final_dataset.parquet\",\n",
    "\"../assets/validation_data/india_indira_gandhi_canals_mercator.geojson\":\"../assets/outputs/test_outputs/final_output/India_northern-zone_final_dataset.parquet\",\n",
    "\"../assets/validation_data/krishna_godavari_delta_canals.geojson\":\"../assets/outputs/test_outputs/final_output/India_southern-zone_final_dataset.parquet\",\n",
    "\"../assets/validation_data/sindh_pakistan_canals.geojson\":\"../assets/outputs/test_outputs/final_output/Pakistan_final_dataset.parquet\",\n",
    "\n",
    "}"
   ]
  },
  {
   "cell_type": "code",
   "execution_count": null,
   "id": "072aea66",
   "metadata": {},
   "outputs": [],
   "source": [
    "#fucntion to compute recall\n",
    "def compute_recall(\n",
    "        validation_path: str,\n",
    "        grain_path: str,\n",
    "        buffer_meters: float = 30,\n",
    "        metric_crs: int | str = 3857\n",
    "    ) -> float:\n",
    "    \"\"\"\n",
    "    Recall = (length of validation canals that intersect a buffered GRAIN network)\n",
    "             / (total length of validation canals)\n",
    "\n",
    "    The GRAIN layer is buffered by `buffer_meters`, creating a corridor around each\n",
    "    candidate canal.  Any portion of the validation network that lies within this\n",
    "    corridor is treated as a “hit”.\n",
    "\n",
    "    Parameters\n",
    "    ----------\n",
    "    validation_path : str\n",
    "        File path to the *ground-truth* canal network (GeoJSON, Shapefile, GPKG …).\n",
    "    grain_path : str\n",
    "        File path to the GRAIN canal layer covering the same region.\n",
    "    buffer_meters : float, default 30\n",
    "        Distance tolerance for matching (in metres).\n",
    "    metric_crs : int | str, default 3857\n",
    "        Projected CRS with metre units (use a local UTM if possible).\n",
    "\n",
    "    Returns\n",
    "    -------\n",
    "    float\n",
    "        Recall in the range [0, 1].  Returns np.nan if the validation file has zero length.\n",
    "    \"\"\"\n",
    "    # 1 ── Load data & project to a metric CRS \n",
    "    val   = gpd.read_file(validation_path).to_crs(metric_crs)\n",
    "    grain = gpd.read_file(grain_path, bbox=tuple(val.total_bounds)).to_crs(metric_crs)\n",
    "    \n",
    "    # 2 ── Quick exit if either layer is empty\n",
    "    total_val_len = val.length.sum()\n",
    "    if total_val_len == 0 or grain.empty:\n",
    "        return np.nan\n",
    "\n",
    "    # 3 ── Buffer GRAIN lines\n",
    "    grain_buf = grain.buffer(buffer_meters).unary_union         \n",
    "    grain_buf_gdf = gpd.GeoDataFrame(geometry=[grain_buf], crs=metric_crs)\n",
    "\n",
    "    # 4 ── Intersect validation canals with the buffered polygon\n",
    "    intersected = gpd.overlay(val, grain_buf_gdf, how=\"intersection\")\n",
    "    matched_len = intersected.length.sum()\n",
    "\n",
    "    recall = matched_len / total_val_len\n",
    "    total_length_valdiation = val.length.sum()\n",
    "    total_length_matched_grain = matched_len\n",
    "\n",
    "    #grain canals = predicted calss = 'canals'\n",
    "    grain_canals = grain[grain['predicted_class'].isin(['Canal_man_made', 'Canal_natural'])]   \n",
    "    grain_canals_length = grain_canals.length.sum()\n",
    "    # return all\n",
    "    return {\n",
    "        \"recall\": recall,\n",
    "        \"total_length_validation\": total_length_valdiation/1E3,\n",
    "        \"total_length_matched_grain\": total_length_matched_grain/1E3,\n",
    "        \"length_missing_grain\": total_length_valdiation/1E3 - total_length_matched_grain/1E3,\n",
    "        \"total_length_grain_canals\": grain_canals_length/1E3\n",
    "    }\n"
   ]
  },
  {
   "cell_type": "code",
   "execution_count": null,
   "id": "4b7108dd",
   "metadata": {},
   "outputs": [],
   "source": [
    "\n",
    "\n",
    "def _nearest_index(pt, sindex):\n",
    "    \"\"\"\n",
    "    Return index of the nearest geometry in `sindex` to `pt`, working on\n",
    "    both old (rtree/pygeos) and new (Shapely-2 STRtree) back-ends.\n",
    "    \"\"\"\n",
    "    try:\n",
    "        # Newer GeoPandas (STRtree) – returns ndarray of ints\n",
    "        idx_arr = sindex.nearest(pt)          # pt is a geometry\n",
    "        return idx_arr[0]                     # take first match\n",
    "    except TypeError:\n",
    "        # Older back-ends – generator interface\n",
    "        return next(sindex.nearest(pt, num_results=1))\n",
    "\n",
    "def compute_positional_error(\n",
    "        validation_path: str,\n",
    "        grain_path: str,\n",
    "        sample_spacing: float = 20,\n",
    "        metric_crs: int | str = 3857\n",
    "    ) -> dict:\n",
    "    \"\"\"\n",
    "    Sample points every `sample_spacing` m along the validation canals and\n",
    "    measure nearest-segment distance to the GRAIN network.\n",
    "\n",
    "    Returns a dict: mean_dist, median_dist, p95_dist, npe, n_samples\n",
    "    \"\"\"\n",
    "    # ── load & project ───────────────────────────────────────────────────────────\n",
    "    val   = gpd.read_file(validation_path).to_crs(metric_crs)\n",
    "    grain = gpd.read_file(grain_path, bbox=tuple(val.total_bounds)).to_crs(metric_crs)\n",
    "    if val.empty or grain.empty:\n",
    "        return {k: np.nan for k in\n",
    "                (\"mean_dist\",\"median_dist\",\"p95_dist\",\"npe\",\"n_samples\")}\n",
    "\n",
    "    sindex = grain.sindex\n",
    "\n",
    "    # ── sample points along validation lines ────────────────────────────────────\n",
    "    sample_pts = []\n",
    "    for line in val.geometry:\n",
    "        if line.is_empty or not line.is_valid:\n",
    "            continue\n",
    "        for d in np.arange(0, line.length + sample_spacing, sample_spacing):\n",
    "            sample_pts.append(Point(line.interpolate(d)))\n",
    "\n",
    "    if not sample_pts:\n",
    "        return {k: np.nan for k in\n",
    "                (\"mean_dist\",\"median_dist\",\"p95_dist\",\"npe\",\"n_samples\")}\n",
    "\n",
    "    # ── compute distances ───────────────────────────────────────────────────────\n",
    "    distances = []\n",
    "    for pt in sample_pts:\n",
    "        cand_idx   = _nearest_index(pt, sindex)        # geometry-aware lookup\n",
    "        nearest_seg = grain.iloc[cand_idx].geometry\n",
    "        distances.append(pt.distance(nearest_seg))\n",
    "\n",
    "    #create a pandas DataFrame from distances\n",
    "    distances_list = []\n",
    "\n",
    "    for row in distances:\n",
    "        distances_list.append(row[0])\n",
    "    \n",
    "    #drop any NaN values\n",
    "    distances_list = [d for d in distances_list if isinstance(d, float)]\n",
    "    distances_df = pd.DataFrame(distances_list)\n",
    "\n",
    "\n",
    "    #remove any values not a float\n",
    "    distances_df = distances_df[distances_df[0].apply(lambda x: isinstance(x, float))]\n",
    "\n",
    "    total_len = val.length.sum()\n",
    "\n",
    "    return {\n",
    "        \"total_length_validation\": total_len,\n",
    "        \"mean_error_dist\":   distances_df.mean(),\n",
    "        \"median_error_dist\": distances_df.median(),\n",
    "        \"p95_error_dist\":    distances_df.quantile(0.95),\n",
    "        \"pe\": distances_df.mean()/total_len if total_len else np.nan,\n",
    "        \"npe\":         (distances_df.sum() / total_len) if total_len else np.nan,\n",
    "        \"n_samples\":   len(distances_df)\n",
    "    }\n",
    "\n"
   ]
  },
  {
   "cell_type": "code",
   "execution_count": null,
   "id": "bf657601",
   "metadata": {},
   "outputs": [
    {
     "name": "stdout",
     "output_type": "stream",
     "text": [
      "/water3/saraths/Research_Files/GRAIN/assets/validation_data/krishna_godavari_delta_canals.geojson\n"
     ]
    }
   ],
   "source": [
    "validation_region = validation_file_osm_data_map.keys()\n",
    "test1_validation = list(validation_region)[3]\n",
    "print(test1_validation)\n",
    "test1_gpd = gpd.read_file(test1_validation)\n",
    "test1_matching_grain = gpd.read_file(validation_file_osm_data_map[test1_validation])"
   ]
  },
  {
   "cell_type": "code",
   "execution_count": null,
   "id": "3fa4519e",
   "metadata": {},
   "outputs": [
    {
     "name": "stderr",
     "output_type": "stream",
     "text": [
      "/tmp/ipykernel_3889626/2045550241.py:44: DeprecationWarning: The 'unary_union' attribute is deprecated, use the 'union_all()' method instead.\n",
      "  grain_buf = grain.buffer(buffer_meters).unary_union          # single (multi)-polygon\n"
     ]
    }
   ],
   "source": [
    "recall = compute_recall(\n",
    "    validation_path=test1_validation,\n",
    "    grain_path=validation_file_osm_data_map[test1_validation],  \n",
    "    buffer_meters=500,\n",
    "    metric_crs=3857\n",
    ")\n",
    "\n"
   ]
  },
  {
   "cell_type": "code",
   "execution_count": null,
   "id": "bcc273d0",
   "metadata": {},
   "outputs": [
    {
     "data": {
      "text/plain": [
       "{'recall': np.float64(0.5718651367529091),\n",
       " 'total_length_validation': np.float64(9404.201112380948),\n",
       " 'total_length_matched_grain': np.float64(5377.934755183591),\n",
       " 'length_missing_grain': np.float64(4026.266357197357),\n",
       " 'total_length_grain_canals': np.float64(9669.539231433679)}"
      ]
     },
     "execution_count": 54,
     "metadata": {},
     "output_type": "execute_result"
    }
   ],
   "source": [
    "recall"
   ]
  },
  {
   "cell_type": "code",
   "execution_count": null,
   "id": "808be55e",
   "metadata": {},
   "outputs": [],
   "source": [
    "\n",
    "positional_error_metric = compute_positional_error(\n",
    "    validation_path=test1_validation,\n",
    "    grain_path=validation_file_osm_data_map[test1_validation],  \n",
    "    sample_spacing=500,\n",
    "    metric_crs=3857\n",
    ")"
   ]
  },
  {
   "cell_type": "code",
   "execution_count": 56,
   "id": "2457a576",
   "metadata": {},
   "outputs": [
    {
     "data": {
      "text/plain": [
       "{'total_length_validation': np.float64(9404201.112380948),\n",
       " 'mean_error_dist': 0    133682.125515\n",
       " dtype: float64,\n",
       " 'median_error_dist': 0    133403.253543\n",
       " dtype: float64,\n",
       " 'p95_error_dist': 0    172014.840726\n",
       " Name: 0.95, dtype: float64,\n",
       " 'pe': 0    0.014215\n",
       " dtype: float64,\n",
       " 'npe': 0    297.309854\n",
       " dtype: float64,\n",
       " 'n_samples': 20915}"
      ]
     },
     "execution_count": 56,
     "metadata": {},
     "output_type": "execute_result"
    }
   ],
   "source": [
    "positional_error_metric"
   ]
  }
 ],
 "metadata": {
  "kernelspec": {
   "display_name": ".grain_test",
   "language": "python",
   "name": "python3"
  },
  "language_info": {
   "codemirror_mode": {
    "name": "ipython",
    "version": 3
   },
   "file_extension": ".py",
   "mimetype": "text/x-python",
   "name": "python",
   "nbconvert_exporter": "python",
   "pygments_lexer": "ipython3",
   "version": "3.12.9"
  }
 },
 "nbformat": 4,
 "nbformat_minor": 5
}
